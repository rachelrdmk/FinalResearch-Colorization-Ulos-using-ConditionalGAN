{
 "cells": [
  {
   "cell_type": "markdown",
   "metadata": {},
   "source": [
    "# IMAGE COLORIZATION USING cGAN"
   ]
  },
  {
   "cell_type": "markdown",
   "metadata": {},
   "source": [
    "**Contents**\n",
    "\n",
    "1. [Import Packages](#packages)\n",
    "2. [Utils](#utils)\n",
    "3. [Data preparation](#dataset)\n",
    "4. [Image Colorization and Color Science Computation](#4-image-colorization-and-color-science-computations)\n",
    "5. [Generator architecture](#generator)\n",
    "6. [Discriminator architecture](#discriminator)\n",
    "7. [Trainer](#training)\n",
    "8. [Validation](#validation)"
   ]
  },
  {
   "cell_type": "markdown",
   "metadata": {},
   "source": [
    "## 1. Import Packages <a class=\"anchor\" id=\"packages\"></a>"
   ]
  },
  {
   "cell_type": "code",
   "execution_count": 1,
   "metadata": {},
   "outputs": [
    {
     "name": "stderr",
     "output_type": "stream",
     "text": [
      "c:\\Users\\Lenovo\\.conda\\envs\\ulos\\lib\\site-packages\\torchvision\\io\\image.py:13: UserWarning: Failed to load image Python extension: '[WinError 127] The specified procedure could not be found'If you don't plan on using image functionality from `torchvision.io`, you can ignore this warning. Otherwise, there might be something wrong with your environment. Did you have `libjpeg` or `libpng` installed before building `torchvision` from source?\n",
      "  warn(\n",
      "c:\\Users\\Lenovo\\.conda\\envs\\ulos\\lib\\site-packages\\colour\\utilities\\verbose.py:265: ColourWarning: \"vaab/colour\" was detected in \"sys.path\", please define a \"COLOUR_SCIENCE__COLOUR__IMPORT_VAAB_COLOUR=True\" environment variable to import its objects into \"colour\" namespace!\n",
      "  warn(*args, **kwargs)  # noqa: B028\n"
     ]
    }
   ],
   "source": [
    "# Operating system and file operations\n",
    "import os\n",
    "\n",
    "# Numerical operations and array processing\n",
    "import numpy as np\n",
    "\n",
    "# Data visualization\n",
    "import seaborn as sns\n",
    "import matplotlib.pyplot as plt\n",
    "\n",
    "# Random number generation\n",
    "import random\n",
    "\n",
    "# Image processing and computer vision\n",
    "import cv2\n",
    "\n",
    "# Deep learning and neural networks\n",
    "import torch\n",
    "import torch.nn as nn\n",
    "import torch.nn.functional as F\n",
    "\n",
    "# Data handling for deep learning\n",
    "import torchvision\n",
    "from torchvision import transforms\n",
    "from torch.utils.data import Dataset, DataLoader\n",
    "\n",
    "# Displaying model information\n",
    "from torchsummary import summary\n",
    "\n",
    "# Image manipulation\n",
    "from PIL import Image\n",
    "\n",
    "# Type annotations\n",
    "from typing import List\n",
    "\n",
    "# Progress bar for Jupyter Notebooks\n",
    "from tqdm.notebook import tqdm\n",
    "\n",
    "# Color space conversions\n",
    "from colour import sRGB_to_XYZ, XYZ_to_Lab, Lab_to_XYZ, XYZ_to_sRGB\n",
    "\n",
    "# Image quality assessment\n",
    "from skimage.metrics import structural_similarity as ssim\n",
    "\n",
    "# Memory management\n",
    "import gc\n",
    "\n",
    "# Handling warnings\n",
    "import warnings\n",
    "warnings.filterwarnings(\"ignore\", category=FutureWarning)"
   ]
  },
  {
   "cell_type": "markdown",
   "metadata": {},
   "source": [
    "## 2. Utils <a class=\"anchor\" id=\"utils\"></a>"
   ]
  },
  {
   "cell_type": "code",
   "execution_count": 2,
   "metadata": {},
   "outputs": [
    {
     "name": "stdout",
     "output_type": "stream",
     "text": [
      "cpu\n"
     ]
    }
   ],
   "source": [
    "# Determine the device to use for PyTorch operations\n",
    "device = 'cuda' if torch.cuda.is_available() else 'cpu'\n",
    "\n",
    "# Print the selected device which device will be used for PyTorch operations.\n",
    "print(device)"
   ]
  },
  {
   "cell_type": "markdown",
   "metadata": {},
   "source": [
    "#### Device Configuration for PyTorch\n",
    "\n",
    "The script determines and prints the computing device to be used for PyTorch operations based on hardware availability:\n",
    "\n",
    "1. **Determine the Device**: The code checks if a CUDA-enabled GPU is available. If yes, it sets the device to `'cuda'` to enable GPU acceleration. If not, it defaults to `'cpu'`.\n",
    "2. **Print Device Information**: It then prints the chosen device (`'cuda'` or `'cpu'`) to the console. This confirmation is useful for verifying that the intended hardware (GPU or CPU) is set for executing the operations.\n"
   ]
  },
  {
   "cell_type": "markdown",
   "metadata": {},
   "source": [
    "======================================================================="
   ]
  },
  {
   "cell_type": "markdown",
   "metadata": {},
   "source": [
    "## 3. Data Preparation"
   ]
  },
  {
   "cell_type": "markdown",
   "metadata": {},
   "source": [
    "The data preparation process is a crucial step in ensuring the quality and effectiveness of the image colorization model.\n",
    "\n",
    "#### Dataset Description\n",
    "- **Total Images**: 64 images.\n",
    "- **Image Formats**: Each image is available in two versions: grayscale and color.\n",
    "- **Image Resolution**: The images have been processed to a consistent resolution, suitable for model processing.\n",
    "\n",
    "#### Data Split\n",
    "The dataset has been divided into two main subsets for training and testing the model:\n",
    "- **Training Data**: 80% of the total images (51 images) are used for model training. The training data includes a mix of grayscale and color images, allowing the model to learn to recognize and reproduce colors from grayscale images.\n",
    "- **Testing Data**: 20% of the total images (13 images) are used as a test set to evaluate the model's performance. Testing ensures that the model can generalize what it has learned to new, unseen images."
   ]
  },
  {
   "cell_type": "markdown",
   "metadata": {},
   "source": [
    "======================================================================="
   ]
  },
  {
   "cell_type": "markdown",
   "metadata": {},
   "source": [
    "## 4. Image Colorization and Color Science Computations"
   ]
  },
  {
   "cell_type": "markdown",
   "metadata": {},
   "source": [
    "The script is designed to handle the image colorization process using deep learning frameworks in PyTorch. It details the steps from dataset preparation, transformations, to model inference and visualization:\n",
    "\n",
    "1. **Color Space Conversion Functions**: Includes a function `lab_to_rgb` that converts images from the LAB color space to RGB using the torch and colour libraries. This function processes a batch of images for display or further processing.\n",
    "\n",
    "2. **Image Transformations**: Defines transformations to resize and normalize images. These transformations prepare images for consistent processing and improve model training efficiency.\n",
    "\n",
    "3. **Custom Dataset Class**: `ImageColorizeDataset` is a PyTorch dataset class that handles loading and preprocessing of images. It splits images into input and output parts, applies transformations, and adjusts the data format for model processing.\n",
    "\n",
    "4. **Data Loaders**: Set up for both training and testing, facilitating the easy batching of data for processing by the model.\n",
    "\n",
    "5. **Model Training and Inference Setup**: Orchestrates the flow from loading data, applying transformations, making predictions with the model, and preparing the images for visualization.\n",
    "\n",
    "6. **Visualization**: Displays a grid of original and colorized images using matplotlib, demonstrating the effectiveness of the model in a visual format."
   ]
  },
  {
   "cell_type": "code",
   "execution_count": 3,
   "metadata": {},
   "outputs": [],
   "source": [
    "def lab_to_rgb_save(L, ab, device, save_dir=\"./output\"):\n",
    "    \"\"\"\n",
    "    Takes a batch of images\n",
    "    \"\"\"\n",
    "    L = 100 * L  # Scale the L component from 0-1 to 0-100\n",
    "    ab = (ab - 0.5) * 256  # Adjust the a and b components to the correct range\n",
    "    Lab = torch.cat([L, ab], dim=1).permute(0, 2, 3, 1).detach().cpu().numpy()  # Combine L, a, b, and rearrange the format for processing\n",
    "    rgb_imgs = []  # Initialize a list to store the resulting RGB images\n",
    "\n",
    "    rgb_imgs = []  # Initialize a list to store the resulting RGB images\n",
    "    if not os.path.exists(save_dir):\n",
    "        os.makedirs(save_dir)\n",
    "    \n",
    "    for idx, img in enumerate(Lab):\n",
    "        img = Lab_to_XYZ(img)  # Assuming Lab_to_XYZ returns correctly formatted data\n",
    "        img = XYZ_to_sRGB(img)  # Assuming XYZ_to_sRGB returns correctly formatted data\n",
    "\n",
    "        if img.ndim != 3 or img.shape[2] not in [3, 4]:\n",
    "            raise ValueError(f\"Image format error: Expected shape (H, W, 3) or (H, W, 4), got {img.shape}\")\n",
    "\n",
    "        plt.imsave(os.path.join(save_dir, f\"image_{idx}.png\"), img.clip(0, 1))\n",
    "\n",
    "        rgb_imgs.append(img)\n",
    "    # for img in Lab:\n",
    "    #     img = Lab_to_XYZ(img)  # Convert LAB to XYZ\n",
    "    #     img = XYZ_to_sRGB(img)  # Convert XYZ to RGB\n",
    "    #     rgb_imgs.append(img)  # Append the RGB image to the list\n",
    "    return torch.tensor(np.stack(rgb_imgs, axis=0)).permute(0, 3, 1, 2).to(device)  # Return the images as a PyTorch tensor and move to the specified device\n",
    "\n",
    "def lab_to_rgb(L, ab, device):\n",
    "    \"\"\"\n",
    "    Takes a batch of images\n",
    "    \"\"\"\n",
    "    L = 100 * L  # Scale the L component from 0-1 to 0-100\n",
    "    ab = (ab - 0.5) * 256  # Adjust the a and b components to the correct range\n",
    "    Lab = torch.cat([L, ab], dim=1).permute(0, 2, 3, 1).detach().cpu().numpy()  # Combine L, a, b, and rearrange the format for processing\n",
    "    rgb_imgs = []  # Initialize a list to store the resulting RGB images\n",
    "    for img in Lab:\n",
    "        img = Lab_to_XYZ(img)  # Convert LAB to XYZ\n",
    "        img = XYZ_to_sRGB(img)  # Convert XYZ to RGB\n",
    "        rgb_imgs.append(img)  # Append the RGB image to the list\n",
    "    return torch.tensor(np.stack(rgb_imgs, axis=0)).permute(0, 3, 1, 2).to(device)  # Return the images as a PyTorch tensor and move to the specified device"
   ]
  },
  {
   "cell_type": "markdown",
   "metadata": {},
   "source": [
    "#### LAB to RGB Conversion Function\n",
    "\n",
    "The `lab_to_rgb` function is designed to convert images from the LAB color space to the RGB color space, facilitating the display or further processing of these images in more commonly used formats. The function operates on batches of images, enhancing processing efficiency. Here is a breakdown of the key operations within the function:\n",
    "\n",
    "1. **Normalization and Scaling**: \n",
    "   - The lightness component `L` is normalized from a range of 0-1 to 0-100.\n",
    "   - The color components `a` and `b` are scaled from a centered zero range (-0.5 to 0.5) to their full potential range (0 to 256).\n",
    "\n",
    "2. **Tensor Manipulation**: \n",
    "   - The `L`, `a`, and `b` components are concatenated into a single tensor and rearranged to match the expected input structure for color space conversion functions.\n",
    "\n",
    "3. **Color Space Conversion**:\n",
    "   - Each image in the batch is individually converted from LAB to XYZ, and then from XYZ to the standard sRGB space.\n",
    "\n",
    "4. **Tensor Preparation and Device Allocation**:\n",
    "   - The resulting RGB images are stacked into a single tensor, rearranged to match the expected input format of PyTorch operations, and transferred to the specified computational device (`cpu` or `gpu`)."
   ]
  },
  {
   "cell_type": "code",
   "execution_count": 4,
   "metadata": {},
   "outputs": [],
   "source": [
    "# Set the desired image size\n",
    "image_size = (256, 128)\n",
    "\n",
    "# Compose a series of transformations to be applied to the images\n",
    "t = transforms.Compose([\n",
    "    transforms.Resize(image_size, antialias=True),  # Resize the image with antialias to reduce distortion\n",
    "    transforms.Normalize(mean=0, std=0.5)           # Normalize the images to facilitate neural network processing\n",
    "])"
   ]
  },
  {
   "cell_type": "markdown",
   "metadata": {},
   "source": [
    "#### Image Data Transformations\n",
    "\n",
    "The image data transformation process involves setting the size and normalizing to prepare images for model training processes:\n",
    "\n",
    "1. **Size Adjustment**: Images are resized to 256 pixels in width and 128 pixels in height. The use of antialiasing helps to reduce moire effects and maintain clarity of the images after resizing.\n",
    "\n",
    "2. **Normalization**: Images are normalized with a mean of 0 and a standard deviation of 0.5. This normalization ensures that the image data has a uniform range of values, which is important for the stability and efficiency of deep learning model training.\n"
   ]
  },
  {
   "cell_type": "code",
   "execution_count": 5,
   "metadata": {},
   "outputs": [],
   "source": [
    "class ImageColorizeDataset(Dataset):\n",
    "    def __init__(self, path: str, device='cpu', train: bool = False, transforms = None):\n",
    "        # Set the dataset mode based on the train argument, 'train' for training and 'test' for testing\n",
    "        _mode = 'train' if train else 'test'\n",
    "        \n",
    "        self.device = device  # Device where data will be processed (CPU or GPU)\n",
    "        self._input_path = os.path.join(path, f'{_mode}_color')  # Path to the data\n",
    "        \n",
    "        self.data = os.listdir(self._input_path)  # List all image files in the directory\n",
    "        \n",
    "        self.transforms = transforms  # Transformations to be applied to the images\n",
    "\n",
    "    def __len__(self):\n",
    "        return len(self.data)  # Return the number of data in the dataset\n",
    "\n",
    "    def __getitem__(self, idx: int):\n",
    "        to_tensor = transforms.ToTensor()  # Transform the image to a tensor\n",
    "        \n",
    "        item = self.data[idx]  # Retrieve the data item by index\n",
    "        \n",
    "        input_ = Image.open(os.path.join(self._input_path, item))  # Open image\n",
    "        w, h = input_.size  # Get image dimensions\n",
    "        left = 0\n",
    "        top = 0\n",
    "        right = w\n",
    "        bottom = h / 2  # Take the top half of the image\n",
    "        input_ = input_.crop((left, top, right, bottom))  # Crop the image\n",
    "        \n",
    "        input_ = to_tensor(input_)  # Convert the cropped image to a tensor\n",
    "        \n",
    "        # Set seed for reproducibility\n",
    "        seed = np.random.randint(2147483647)\n",
    "        random.seed(seed)\n",
    "        torch.manual_seed(seed)\n",
    "        if self.transforms is not None:\n",
    "            input_ = self.transforms(input_)  # Apply transformations if any\n",
    "        \n",
    "        img = input_.permute(1, 2, 0).numpy()  # Rearrange axes for color space conversion\n",
    "        img = sRGB_to_XYZ(img)  # Convert sRGB to XYZ\n",
    "        img = XYZ_to_Lab(img).transpose(2, 0, 1).astype(\"float32\")  # Convert XYZ to LAB\n",
    "        \n",
    "        L = torch.tensor(img[[0], ...] / 100)  # Normalize the L component\n",
    "        ab = torch.tensor(img[[1, 2], ...] / 256 + 0.5)  # Normalize the a and b components\n",
    "        \n",
    "        return L.to(device), ab.to(device)  # Return as tensor and send to the specified device"
   ]
  },
  {
   "cell_type": "markdown",
   "metadata": {},
   "source": [
    "#### Image Colorization Dataset Class\n",
    "\n",
    "The `ImageColorizeDataset` class is a part of the PyTorch library that manages image datasets for colorization processes. The class loads and processes images in two modes: training and testing, depending on the argument provided during initialization.\n",
    "\n",
    "##### Initialization\n",
    "- **Path**: The location of the dataset directory containing the images.\n",
    "- **Device**: The device (`cpu` or `gpu`) where data will be processed.\n",
    "- **Train**: Indicates whether the dataset is for training or testing purposes.\n",
    "- **Transforms**: Transformations to be applied to images before processing.\n",
    "\n",
    "##### Loading Data\n",
    "- **`__len__`**: Returns the number of images in the dataset.\n",
    "- **`__getitem__`**: Retrieves an image by index, converts it into a tensor, applies transformations (if any), and converts the color space from sRGB to XYZ then to Lab.\n",
    "\n",
    "##### Transformation Process\n",
    "Transformations on images include resizing, normalizing, and converting color spaces. This process is crucial to prepare the data to meet the requirements of machine learning models.\n"
   ]
  },
  {
   "cell_type": "code",
   "execution_count": 6,
   "metadata": {},
   "outputs": [],
   "source": [
    "# Initialize the dataset for testing with specified transformations and not in training mode\n",
    "test_data = ImageColorizeDataset(\"dataset\", \n",
    "\t\t\t\t\t\t\t\t transforms=t, train=False)\n",
    "# DataLoader for the test dataset, with a batch size of 8 and shuffling enabled\n",
    "test_dl = DataLoader(test_data, batch_size=8, shuffle=True)"
   ]
  },
  {
   "cell_type": "code",
   "execution_count": 7,
   "metadata": {},
   "outputs": [],
   "source": [
    "# Initialize the dataset for training with specified transformations and in training mode\n",
    "train_data = ImageColorizeDataset(\"dataset\", \n",
    "\t\t\t\t\t\t\t\t  transforms=t, train=True)\n",
    "# DataLoader for the training dataset, with a batch size of 8 and shuffling enabled\n",
    "train_dl = DataLoader(train_data, batch_size=8, shuffle=True)"
   ]
  },
  {
   "cell_type": "markdown",
   "metadata": {},
   "source": [
    "#### Setting Up Data Loaders\n",
    "\n",
    "This section of the code initializes and configures data loaders for both training and testing phases of an image colorization model using PyTorch.\n",
    "\n",
    "##### Test Data Loader\n",
    "- **Initialization**: The `ImageColorizeDataset` class is instantiated with the path `\"dataset1\"`, with the transformations defined by `t` and set to `train=False` to indicate that this dataset is for testing purposes.\n",
    "- **Data Loader**: The `DataLoader` is used to create an iterable over the test dataset. It is configured with a batch size of 8 and shuffling enabled to ensure that the model does not see the same sequence of images during testing, which helps simulate a more realistic testing environment.\n",
    "\n",
    "##### Training Data Loader\n",
    "- **Initialization**: Similarly, the `ImageColorizeDataset` is also instantiated for training, with the same path and transformations but with `train=True` to denote that this dataset will be used for training the model.\n",
    "- **Data Loader**: The `DataLoader` for training is similarly configured with a batch size of 8 and shuffling enabled. Shuffling the data during training is crucial as it prevents the model from learning the order of the dataset, thus improving the generalization capabilities of the model."
   ]
  },
  {
   "cell_type": "code",
   "execution_count": 8,
   "metadata": {},
   "outputs": [],
   "source": [
    "# Retrieve the next batch of images and targets from the training DataLoader\n",
    "images, targets = next(iter(train_dl))\n",
    "\n",
    "# Convert LAB images back to RGB using the lab_to_rgb function for visualization\n",
    "to_show = lab_to_rgb(images, targets, device=device)\n",
    "\n",
    "# Create a grid of images combining the original and colorized images for display\n",
    "grid = torchvision.utils.make_grid(\n",
    "    torch.cat([images.expand(to_show.shape), to_show], dim=0),  # Concatenate original and colorized images\n",
    "    nrow=8,          # Number of images per row\n",
    "    # padding=4,       # Space between images\n",
    "    scale_each=True, # Scale images individually\n",
    "    # border=2         # Border size around images\n",
    ")\n",
    "\n",
    "# Plot the grid of images using matplotlib\n",
    "fig = plt.figure(figsize=(16,8))  # Set the figure size\n",
    "plt.imshow(grid.cpu().permute(1,2,0))  # Convert tensor to numpy array and display as image\n",
    "plt.axis('off')  # Hide axes\n",
    "plt.show()  # Display the plot\n"
   ]
  },
  {
   "cell_type": "code",
   "execution_count": null,
   "metadata": {},
   "outputs": [],
   "source": [
    "a.size()"
   ]
  },
  {
   "cell_type": "code",
   "execution_count": null,
   "metadata": {},
   "outputs": [],
   "source": [
    "a = grid.cpu().permute(1,2,0)\n",
    "plt.imshow((torch.split(a,130, dim=1)[1]))\n",
    "plt.axis('off')\n",
    "plt.show"
   ]
  },
  {
   "cell_type": "code",
   "execution_count": 9,
   "metadata": {},
   "outputs": [],
   "source": [
    "a = grid.cpu().permute(1,2,0)\n",
    "half_index = a.size(0) // 2\n",
    "second_portion = a[half_index:, :, :]\n",
    "plt.imshow((torch.split(second_portion,130, dim=1)[3]))\n",
    "plt.axis('off')\n",
    "plt.show"
   ]
  },
  {
   "cell_type": "markdown",
   "metadata": {},
   "source": [
    "#### Visualizing the Results of Image Colorization\n",
    "\n",
    "This section of the code demonstrates how to visualize the results of the image colorization model by combining the original (LAB) and RGB converted images.\n",
    "\n",
    "##### Step-by-Step Explanation:\n",
    "1. **Data Retrieval**: First, a batch of images and their corresponding color targets (LAB values) is retrieved from the training data loader using `next(iter(train_dl))`.\n",
    "\n",
    "2. **Color Space Conversion**: The `lab_to_rgb` function is called to convert these LAB images back into the RGB color space. This is essential for visual inspection, as RGB is the standard format for displaying images on most devices.\n",
    "\n",
    "3. **Image Grid Creation**:\n",
    "   - The original LAB images (converted for display) and the RGB images are concatenated to form a combined tensor.\n",
    "   - `torchvision.utils.make_grid` is utilized to arrange these images into a grid format, making it easier to compare the original and colorized versions side by side.\n",
    "\n",
    "4. **Visualization**:\n",
    "   - A figure of size 16x8 inches is created using `matplotlib`.\n",
    "   - The image grid is displayed using `plt.imshow`, with the axes turned off to emphasize the images themselves.\n",
    "   - The grid displays the original and RGB images in sequence, facilitating a direct visual comparison."
   ]
  },
  {
   "cell_type": "markdown",
   "metadata": {},
   "source": [
    "## 5. Generator <a class=\"anchor\" id=\"generator\"></a>\n",
    "\n",
    "UNet model was used as a generator. It takes image as an input. To randomize output of generator, dropout layers applied both at training and evalutaion time as a noise."
   ]
  },
  {
   "cell_type": "markdown",
   "metadata": {},
   "source": [
    "#### Convolutional Block with Residual Connection\n",
    "\n",
    "The `ConvBlock` class extends `nn.Module` and implements a convolutional block with a residual connection, typically used in modern deep learning architectures like ResNets."
   ]
  },
  {
   "cell_type": "code",
   "execution_count": 12,
   "metadata": {},
   "outputs": [],
   "source": [
    "class ConvBlock(nn.Module):\n",
    "    def __init__(self, in_channels, out_channels, stride=1, norm_layer=nn.BatchNorm2d):\n",
    "        super().__init__()\n",
    "        # Defines a sequential container for two convolutional blocks with BatchNorm and ReLU activation\n",
    "        self.block = nn.Sequential(\n",
    "            nn.Conv2d(in_channels, out_channels, kernel_size=3, padding=1, stride=stride, bias=False),\n",
    "            norm_layer(out_channels),  # Normalization layer, here using BatchNorm\n",
    "            nn.ReLU(inplace=True),     # ReLU activation with in-place operation to save memory\n",
    "            nn.Conv2d(out_channels, out_channels, kernel_size=3, padding=1, stride=1, bias=False),\n",
    "            norm_layer(out_channels),  # Second normalization layer\n",
    "            nn.ReLU(inplace=True)      # Second ReLU activation\n",
    "        )\n",
    "        \n",
    "        # Identity mapping that may be used to match dimensions for the residual connection\n",
    "        self.identity = nn.Conv2d(in_channels, out_channels, kernel_size=3, padding=1, stride=stride, bias=False)\n",
    "        self.relu = nn.ReLU(inplace=True)  # Final ReLU activation after adding the residual\n",
    "        \n",
    "    def forward(self, x):\n",
    "        x_ = x.detach().clone()  # Detach and clone the input to prevent modifications during forwarding\n",
    "        x_ = self.block(x_)       # Pass the input through the convolutional block\n",
    "        \n",
    "        residual = self.identity(x)  # Apply the identity mapping to the original input\n",
    "        \n",
    "        out = x_ + residual          # Add the output of the convolutional block to the identity mapping\n",
    "        \n",
    "        return self.relu(out)        # Apply a ReLU activation to the combined output and return it"
   ]
  },
  {
   "cell_type": "markdown",
   "metadata": {},
   "source": [
    "#### Encoder and Decoder Blocks in a Neural Network\n",
    "\n",
    "The `EncoderBlock` and `DecoderBlock` are fundamental components used in the architecture of autoencoders and U-Nets, typically used in tasks like image segmentation. \n",
    "The Encoder and Decoder blocks are crucial for building deep learning models that require precise spatial transformations, such as in image segmentation where detailed spatial resolution is necessary for accurate pixel-level predictions.\n"
   ]
  },
  {
   "cell_type": "code",
   "execution_count": 13,
   "metadata": {},
   "outputs": [],
   "source": [
    "class EncoderBlock(nn.Module):\n",
    "    def __init__(self, in_chans, out_chans, sampling_factor=2):\n",
    "        super().__init__()\n",
    "        # Sequential container for an encoder block that includes a max pooling followed by a convolutional block\n",
    "        self.block = nn.Sequential(\n",
    "            nn.MaxPool2d(sampling_factor),  # Reduces the spatial dimensions of the input\n",
    "            ConvBlock(in_chans, out_chans) # Applies a convolutional block to further process the data\n",
    "        )\n",
    "        \n",
    "    def forward(self, x):\n",
    "        # Forward pass of the encoder block: applies pooling and then convolution\n",
    "        return self.block(x)\n",
    "    \n",
    "class DecoderBlock(nn.Module):\n",
    "    def __init__(self, in_chans, out_chans, sampling_factor=2):\n",
    "        super().__init__()\n",
    "        # Upsampling layer to increase the spatial dimensions of the input\n",
    "        self.upsample = nn.Upsample(scale_factor=2, mode=\"bilinear\", align_corners=True)\n",
    "        \n",
    "        # Convolutional block that processes the concatenated input from the upsampled feature map and the skip connection\n",
    "        self.block = ConvBlock(in_chans + out_chans, out_chans)\n",
    "        \n",
    "    def forward(self, x, skip):\n",
    "        # Upsamples the input feature map\n",
    "        x = self.upsample(x)\n",
    "        # Concatenates the upsampled feature map with the skip connection feature map\n",
    "        x = torch.cat([x, skip], dim=1)\n",
    "        # Processes the concatenated feature maps using a convolutional block\n",
    "        x = self.block(x)\n",
    "        return x"
   ]
  },
  {
   "cell_type": "markdown",
   "metadata": {},
   "source": [
    "#### U-Net Architecture Implementation\n",
    "\n",
    "The `UNet` class implements a U-Net architecture, a popular model for biomedical image segmentation that features a symmetric encoder-decoder structure.\n",
    "The U-Net architecture effectively combines high-level feature extraction with precise localization, facilitated by skip connections that help in transferring spatial information to the decoder. This structure makes it particularly effective for tasks where precise segmentation is crucial.\n"
   ]
  },
  {
   "cell_type": "code",
   "execution_count": 14,
   "metadata": {},
   "outputs": [],
   "source": [
    "class UNet(nn.Module):\n",
    "    def __init__(self, in_channels=1, out_channels=2, dropout_rate=0.1):\n",
    "        super().__init__()\n",
    "        # Initialize the encoder part of the U-Net with progressively increasing channels\n",
    "        self.encoder = nn.ModuleList([\n",
    "            ConvBlock(in_channels, 64),\n",
    "            EncoderBlock(64, 128),\n",
    "            EncoderBlock(128, 256),\n",
    "            EncoderBlock(256, 512),\n",
    "        ])\n",
    "        # Initialize the decoder part of the U-Net with progressively decreasing channels\n",
    "        self.decoder = nn.ModuleList([\n",
    "            DecoderBlock(512, 256),\n",
    "            DecoderBlock(256, 128),\n",
    "            DecoderBlock(128, 64)\n",
    "        ])\n",
    "        # Dropout layer to prevent overfitting\n",
    "        self.dropout = nn.Dropout2d(dropout_rate)\n",
    "        # Final convolution layer to map the decoded features to the desired number of output channels\n",
    "        self.logits = nn.Conv2d(in_channels=64, out_channels=out_channels, kernel_size=1)\n",
    "    \n",
    "    def forward(self, x):\n",
    "        encoded = []\n",
    "        # Pass input through each encoder block, apply dropout, and store intermediate outputs for skip connections\n",
    "        for enc in self.encoder:\n",
    "            x = enc(x)\n",
    "            x = self.dropout(x)\n",
    "            encoded.append(x)\n",
    "\n",
    "        enc_out = encoded.pop()\n",
    "        \n",
    "        # Start the decoding process using the stored encoded features\n",
    "        for dec in self.decoder:\n",
    "            enc_out = encoded.pop()  # Retrieve the corresponding encoder output for skip connections\n",
    "            x = dec(x, enc_out)  # Decoder block processes input with skip connections\n",
    "        # Apply a sigmoid activation to the final layer's output to normalize the output to [0,1] range\n",
    "        return F.sigmoid(self.logits(x))"
   ]
  },
  {
   "cell_type": "code",
   "execution_count": 15,
   "metadata": {},
   "outputs": [
    {
     "data": {
      "text/plain": [
       "0"
      ]
     },
     "execution_count": 15,
     "metadata": {},
     "output_type": "execute_result"
    }
   ],
   "source": [
    "# Trigger the garbage collector to free memory from unreferenced objects.\n",
    "gc.collect()"
   ]
  },
  {
   "cell_type": "markdown",
   "metadata": {},
   "source": [
    "## 4. Discriminator <a class=\"anchor\" id=\"discriminator\"></a>\n",
    "\n",
    "Due to our input image shape `batch_size x 3 x 256 x 128`, in out PatchGAN discriminator we have 3 sequential `3 x 3` conv"
   ]
  },
  {
   "cell_type": "markdown",
   "metadata": {},
   "source": [
    "#### PatchGAN Network Architecture\n",
    "\n",
    "The `PatchGAN` class defines a convolutional neural network specifically designed for processing patches of images, commonly used in tasks such as image segmentation and texture synthesis. This model architecture is particularly effective in applications where local texture patterns are crucial, such as in style transfer and local image editing.\n",
    "PatchGAN can be used in various applications within computer vision, particularly in generative adversarial networks (GANs) where the model needs to discriminate between real and synthetic images at the scale of image patches, thus enabling detailed texture and pattern discrimination.\n"
   ]
  },
  {
   "cell_type": "code",
   "execution_count": 16,
   "metadata": {},
   "outputs": [],
   "source": [
    "class PatchGAN(nn.Module):\n",
    "    def __init__(self, in_channels, n_features=64, n_layers=3):\n",
    "        super().__init__()\n",
    "        # Initialize the PatchGAN architecture parameters\n",
    "        k_size = 4  # kernel size\n",
    "        p_size = 2  # padding size\n",
    "        \n",
    "        # Starting layer configuration with a convolutional layer and a LeakyReLU activation\n",
    "        seq = [\n",
    "            nn.Conv2d(in_channels=in_channels, out_channels=n_features, kernel_size=k_size, padding=p_size, stride=2),\n",
    "            nn.LeakyReLU(0.2, True)\n",
    "        ]\n",
    "        \n",
    "        # Factor multipliers for feature map scaling in subsequent layers\n",
    "        f_mult = 1\n",
    "        f_mult_prev = 1\n",
    "        \n",
    "        # Construct additional convolutional layers as specified by n_layers\n",
    "        for i in range(1, n_layers):\n",
    "            f_mult_prev = f_mult\n",
    "            f_mult = min(2 ** i, 8)  # Update feature multiplier with constraints\n",
    "            \n",
    "            seq.append(nn.Conv2d(in_channels=f_mult_prev * n_features, out_channels=f_mult * n_features, kernel_size=k_size, padding=p_size, stride=2))\n",
    "            seq.append(nn.BatchNorm2d(f_mult * n_features))  # Batch normalization for stability\n",
    "            seq.append(nn.LeakyReLU(0.2, True))  # LeakyReLU for non-linear processing\n",
    "\n",
    "        # Last convolutional layers before the final output layer\n",
    "        f_mult_prev = f_mult\n",
    "        f_mult = min(2 ** n_layers, 8)\n",
    "        \n",
    "        seq += [\n",
    "            nn.Conv2d(n_features * f_mult_prev, n_features * f_mult, kernel_size=k_size, stride=1, padding=p_size),\n",
    "            nn.BatchNorm2d(n_features * f_mult),\n",
    "            nn.LeakyReLU(0.2, True)\n",
    "        ]\n",
    "\n",
    "        # Final convolutional layer to produce a 1-channel prediction map\n",
    "        seq += [nn.Conv2d(n_features * f_mult, 1, kernel_size=k_size, stride=1, padding=p_size)]\n",
    "        self.model = nn.Sequential(*seq)\n",
    "\n",
    "    def forward(self, x, label):\n",
    "        # Concatenate input and label along the channel dimension for conditional GAN processing\n",
    "        x = torch.cat((x, label), dim=1)\n",
    "        x = self.model(x)  # Pass through the network\n",
    "        return x"
   ]
  },
  {
   "cell_type": "code",
   "execution_count": 17,
   "metadata": {},
   "outputs": [
    {
     "name": "stdout",
     "output_type": "stream",
     "text": [
      "----------------------------------------------------------------\n",
      "        Layer (type)               Output Shape         Param #\n",
      "================================================================\n",
      "            Conv2d-1          [-1, 64, 129, 65]           3,136\n",
      "         LeakyReLU-2          [-1, 64, 129, 65]               0\n",
      "            Conv2d-3          [-1, 128, 65, 33]         131,200\n",
      "       BatchNorm2d-4          [-1, 128, 65, 33]             256\n",
      "         LeakyReLU-5          [-1, 128, 65, 33]               0\n",
      "            Conv2d-6          [-1, 256, 33, 17]         524,544\n",
      "       BatchNorm2d-7          [-1, 256, 33, 17]             512\n",
      "         LeakyReLU-8          [-1, 256, 33, 17]               0\n",
      "            Conv2d-9          [-1, 512, 34, 18]       2,097,664\n",
      "      BatchNorm2d-10          [-1, 512, 34, 18]           1,024\n",
      "        LeakyReLU-11          [-1, 512, 34, 18]               0\n",
      "           Conv2d-12            [-1, 1, 35, 19]           8,193\n",
      "================================================================\n",
      "Total params: 2,766,529\n",
      "Trainable params: 2,766,529\n",
      "Non-trainable params: 0\n",
      "----------------------------------------------------------------\n",
      "Input size (MB): 8192.00\n",
      "Forward/backward pass size (MB): 24.94\n",
      "Params size (MB): 10.55\n",
      "Estimated Total Size (MB): 8227.49\n",
      "----------------------------------------------------------------\n"
     ]
    },
    {
     "name": "stderr",
     "output_type": "stream",
     "text": [
      "c:\\Users\\Lenovo\\.conda\\envs\\ulos\\lib\\site-packages\\torchsummary\\torchsummary.py:100: RuntimeWarning: overflow encountered in scalar multiply\n",
      "  total_input_size = abs(np.prod(input_size) * batch_size * 4. / (1024 ** 2.))\n"
     ]
    }
   ],
   "source": [
    "D = PatchGAN(in_channels=3).to(device)  # Initialize the PatchGAN discriminator\n",
    "\n",
    "# Display the model architecture\n",
    "summary(D, [(1, image_size[0], image_size[1]), (2, image_size[0], image_size[1])])"
   ]
  },
  {
   "cell_type": "markdown",
   "metadata": {},
   "source": [
    "#### PatchGAN Model\n",
    "\n",
    "The `PatchGAN` model is initialized with three input channels and configured to process images such as those in RGB format. The model is then moved to a computational device (CPU or GPU) for efficient processing. Here is an explanation of each step:\n",
    "\n",
    "##### Model Initialization and Device Allocation:\n",
    "- **PatchGAN(in_channels=3)**: Constructs a `PatchGAN` model that accepts images with three channels (RGB). This model is particularly used in applications like image synthesis or segmentation where understanding local patches is crucial.\n",
    "- **.to(device)**: This method transfers the model to a specified device (`cpu` or `gpu`). This is essential for leveraging hardware acceleration during training or inference, enhancing performance and efficiency.\n",
    "\n",
    "##### Model Summary with torchsummary:\n",
    "- **summary(D, [(1, image_size[0], image_size[1]), (2, image_size[0], image_size[1])])**: Provides a detailed summary of the model. The summary includes layer-by-layer details, output shapes, and the number of parameters at each stage.\n",
    "  - The parameters for the `summary` function indicate the size of the input tensors:\n",
    "    - The first input tensor, with 1 channel and dimensions defined by `image_size`, could represent a specific feature map or modality.\n",
    "    - The second input tensor, with 2 channels and the same spatial dimensions, might carry additional contextual or conditional information influencing the network's predictions.\n",
    "\n",
    "#### Practical Application:\n",
    "This initialization and summary are particularly valuable for developers and researchers:\n",
    "- **Model Development**: Understanding the internal architecture, including the flow and transformation of data through the network, is crucial during the development and debugging phases.\n",
    "- **Resource Management**: Insight into parameter count and memory usage helps in optimizing the model for different computational environments, ensuring efficient deployment."
   ]
  },
  {
   "cell_type": "code",
   "execution_count": 18,
   "metadata": {},
   "outputs": [
    {
     "name": "stdout",
     "output_type": "stream",
     "text": [
      "----------------------------------------------------------------\n",
      "        Layer (type)               Output Shape         Param #\n",
      "================================================================\n",
      "            Conv2d-1         [-1, 64, 256, 128]             576\n",
      "       BatchNorm2d-2         [-1, 64, 256, 128]             128\n",
      "              ReLU-3         [-1, 64, 256, 128]               0\n",
      "            Conv2d-4         [-1, 64, 256, 128]          36,864\n",
      "       BatchNorm2d-5         [-1, 64, 256, 128]             128\n",
      "              ReLU-6         [-1, 64, 256, 128]               0\n",
      "            Conv2d-7         [-1, 64, 256, 128]             576\n",
      "              ReLU-8         [-1, 64, 256, 128]               0\n",
      "         ConvBlock-9         [-1, 64, 256, 128]               0\n",
      "        Dropout2d-10         [-1, 64, 256, 128]               0\n",
      "        MaxPool2d-11          [-1, 64, 128, 64]               0\n",
      "           Conv2d-12         [-1, 128, 128, 64]          73,728\n",
      "      BatchNorm2d-13         [-1, 128, 128, 64]             256\n",
      "             ReLU-14         [-1, 128, 128, 64]               0\n",
      "           Conv2d-15         [-1, 128, 128, 64]         147,456\n",
      "      BatchNorm2d-16         [-1, 128, 128, 64]             256\n",
      "             ReLU-17         [-1, 128, 128, 64]               0\n",
      "           Conv2d-18         [-1, 128, 128, 64]          73,728\n",
      "             ReLU-19         [-1, 128, 128, 64]               0\n",
      "        ConvBlock-20         [-1, 128, 128, 64]               0\n",
      "     EncoderBlock-21         [-1, 128, 128, 64]               0\n",
      "        Dropout2d-22         [-1, 128, 128, 64]               0\n",
      "        MaxPool2d-23          [-1, 128, 64, 32]               0\n",
      "           Conv2d-24          [-1, 256, 64, 32]         294,912\n",
      "      BatchNorm2d-25          [-1, 256, 64, 32]             512\n",
      "             ReLU-26          [-1, 256, 64, 32]               0\n",
      "           Conv2d-27          [-1, 256, 64, 32]         589,824\n",
      "      BatchNorm2d-28          [-1, 256, 64, 32]             512\n",
      "             ReLU-29          [-1, 256, 64, 32]               0\n",
      "           Conv2d-30          [-1, 256, 64, 32]         294,912\n",
      "             ReLU-31          [-1, 256, 64, 32]               0\n",
      "        ConvBlock-32          [-1, 256, 64, 32]               0\n",
      "     EncoderBlock-33          [-1, 256, 64, 32]               0\n",
      "        Dropout2d-34          [-1, 256, 64, 32]               0\n",
      "        MaxPool2d-35          [-1, 256, 32, 16]               0\n",
      "           Conv2d-36          [-1, 512, 32, 16]       1,179,648\n",
      "      BatchNorm2d-37          [-1, 512, 32, 16]           1,024\n",
      "             ReLU-38          [-1, 512, 32, 16]               0\n",
      "           Conv2d-39          [-1, 512, 32, 16]       2,359,296\n",
      "      BatchNorm2d-40          [-1, 512, 32, 16]           1,024\n",
      "             ReLU-41          [-1, 512, 32, 16]               0\n",
      "           Conv2d-42          [-1, 512, 32, 16]       1,179,648\n",
      "             ReLU-43          [-1, 512, 32, 16]               0\n",
      "        ConvBlock-44          [-1, 512, 32, 16]               0\n",
      "     EncoderBlock-45          [-1, 512, 32, 16]               0\n",
      "        Dropout2d-46          [-1, 512, 32, 16]               0\n",
      "         Upsample-47          [-1, 512, 64, 32]               0\n",
      "           Conv2d-48          [-1, 256, 64, 32]       1,769,472\n",
      "      BatchNorm2d-49          [-1, 256, 64, 32]             512\n",
      "             ReLU-50          [-1, 256, 64, 32]               0\n",
      "           Conv2d-51          [-1, 256, 64, 32]         589,824\n",
      "      BatchNorm2d-52          [-1, 256, 64, 32]             512\n",
      "             ReLU-53          [-1, 256, 64, 32]               0\n",
      "           Conv2d-54          [-1, 256, 64, 32]       1,769,472\n",
      "             ReLU-55          [-1, 256, 64, 32]               0\n",
      "        ConvBlock-56          [-1, 256, 64, 32]               0\n",
      "     DecoderBlock-57          [-1, 256, 64, 32]               0\n",
      "         Upsample-58         [-1, 256, 128, 64]               0\n",
      "           Conv2d-59         [-1, 128, 128, 64]         442,368\n",
      "      BatchNorm2d-60         [-1, 128, 128, 64]             256\n",
      "             ReLU-61         [-1, 128, 128, 64]               0\n",
      "           Conv2d-62         [-1, 128, 128, 64]         147,456\n",
      "      BatchNorm2d-63         [-1, 128, 128, 64]             256\n",
      "             ReLU-64         [-1, 128, 128, 64]               0\n",
      "           Conv2d-65         [-1, 128, 128, 64]         442,368\n",
      "             ReLU-66         [-1, 128, 128, 64]               0\n",
      "        ConvBlock-67         [-1, 128, 128, 64]               0\n",
      "     DecoderBlock-68         [-1, 128, 128, 64]               0\n",
      "         Upsample-69        [-1, 128, 256, 128]               0\n",
      "           Conv2d-70         [-1, 64, 256, 128]         110,592\n",
      "      BatchNorm2d-71         [-1, 64, 256, 128]             128\n",
      "             ReLU-72         [-1, 64, 256, 128]               0\n",
      "           Conv2d-73         [-1, 64, 256, 128]          36,864\n",
      "      BatchNorm2d-74         [-1, 64, 256, 128]             128\n",
      "             ReLU-75         [-1, 64, 256, 128]               0\n",
      "           Conv2d-76         [-1, 64, 256, 128]         110,592\n",
      "             ReLU-77         [-1, 64, 256, 128]               0\n",
      "        ConvBlock-78         [-1, 64, 256, 128]               0\n",
      "     DecoderBlock-79         [-1, 64, 256, 128]               0\n",
      "           Conv2d-80          [-1, 2, 256, 128]             130\n",
      "================================================================\n",
      "Total params: 11,655,938\n",
      "Trainable params: 11,655,938\n",
      "Non-trainable params: 0\n",
      "----------------------------------------------------------------\n",
      "Input size (MB): 0.12\n",
      "Forward/backward pass size (MB): 657.50\n",
      "Params size (MB): 44.46\n",
      "Estimated Total Size (MB): 702.09\n",
      "----------------------------------------------------------------\n"
     ]
    }
   ],
   "source": [
    "G = UNet(in_channels=1, out_channels=2).to(device)\n",
    "# G2 = UNet(in_channels=2, out_channels=1).to(device)\n",
    "\n",
    "# summary(G, (1, 384, 384))\n",
    "summary(G, (1, image_size[0], image_size[1]))"
   ]
  },
  {
   "cell_type": "markdown",
   "metadata": {},
   "source": [
    "## 5. Trainer <a class=\"anchor\" id=\"training\"></a>"
   ]
  },
  {
   "cell_type": "code",
   "execution_count": 19,
   "metadata": {},
   "outputs": [],
   "source": [
    "class Trainer: \n",
    "    def __init__(self, G, D, device, batch_size=32, lr_g=1e-4, lr_d=4e-4, l1_lambda=125, d2g_ratio=2, plot_rate=1):\n",
    "        self.G = G\n",
    "        self.D = D\n",
    "        \n",
    "        self.L1_G_loss = nn.L1Loss()\n",
    "        self.G_loss = nn.BCEWithLogitsLoss()\n",
    "        self.D_loss = nn.BCEWithLogitsLoss()\n",
    "        \n",
    "        self.G_optim = torch.optim.AdamW(params=G.parameters(), lr=lr_g)\n",
    "        self.D_optim = torch.optim.AdamW(params=D.parameters(), lr=lr_d)\n",
    "\n",
    "        self.batch_size = batch_size\n",
    "        self.l1_lambda = l1_lambda\n",
    "        \n",
    "        self.loss_G_per_epoch = []\n",
    "        self.loss_D_per_epoch = []\n",
    "        self.loss_D_real_per_epoch = []\n",
    "        self.loss_D_fake_per_epoch = []\n",
    "        \n",
    "        self.loss_G_history = []\n",
    "        self.loss_D_history = []\n",
    "        self.loss_D_real_history = []\n",
    "        self.loss_D_fake_history = []\n",
    "\n",
    "        self.ssim_history = []\n",
    "        self.colourfulness_history = []\n",
    "        \n",
    "        self.d2g_ratio = d2g_ratio\n",
    "        self.device = device\n",
    "        \n",
    "        self.plot_rate = plot_rate\n",
    "    \n",
    "    def train(self, dataloader, epochs):\n",
    "        for epoch in range(epochs):\n",
    "            self.loss_G_history.append([])\n",
    "            self.loss_D_history.append([])\n",
    "            self.loss_D_real_history.append([])\n",
    "            self.loss_D_fake_history.append([])\n",
    "            \n",
    "            print(f'EPOCH: {epoch + 1}')\n",
    "            for i, (images, targets) in enumerate(tqdm(dataloader)):\n",
    "                \n",
    "                self._train_discriminator(images, targets)\n",
    "                \n",
    "                if (i + 1) % self.d2g_ratio == 0:\n",
    "                    self._train_generator(images, targets)\n",
    "    \n",
    "            self.loss_G_per_epoch.append(np.mean(self.loss_G_history[-1]))\n",
    "            self.loss_D_per_epoch.append(np.mean(self.loss_D_history[-1]))\n",
    "            self.loss_D_real_per_epoch.append(np.mean(self.loss_D_real_history[-1]))\n",
    "            self.loss_D_fake_per_epoch.append(np.mean(self.loss_D_fake_history[-1]))\n",
    "            \n",
    "            if (epoch + 1) % self.plot_rate == 0:\n",
    "                self._plot_epoch_stats(epoch)\n",
    "                self._plot_fake_images(images, targets)\n",
    "            self._plot_stats()\n",
    "\n",
    "    def _train_generator(self, inputs, targets):\n",
    "        self.G_optim.zero_grad()\n",
    "        \n",
    "        self.G.train()\n",
    "        self.D.eval()\n",
    "        \n",
    "        fake_targets = self.G(inputs)\n",
    "        \n",
    "        predictions = self.D(inputs, fake_targets)\n",
    "        fake_labels = torch.ones(*predictions.shape, device=self.device)  # Real label for generator\n",
    "        \n",
    "        L1_loss = self.L1_G_loss(fake_targets, targets)\n",
    "        BCE_loss = self.G_loss(predictions, fake_labels)\n",
    "        loss_g = BCE_loss + self.l1_lambda * L1_loss\n",
    "        self.loss_G_history[-1].append(loss_g.item())\n",
    "        loss_g.backward()\n",
    "        self.G_optim.step()\n",
    "                \n",
    "    def _train_discriminator(self, inputs, real_targets):\n",
    "        self.D_optim.zero_grad()\n",
    "        \n",
    "        self.G.eval()\n",
    "        self.D.train()\n",
    "        \n",
    "        real_predictions = self.D(inputs, real_targets)\n",
    "        real_labels = torch.ones(*real_predictions.shape, device=self.device)\n",
    "\n",
    "        real_loss = self.D_loss(real_predictions, real_labels)\n",
    "        \n",
    "        fake_targets = self.G(inputs)\n",
    "        fake_predictions = self.D(inputs, fake_targets.detach())\n",
    "        fake_labels = torch.zeros(*fake_predictions.shape, device=self.device)\n",
    "\n",
    "        fake_loss = self.D_loss(fake_predictions, fake_labels)\n",
    "        \n",
    "        loss_d = (real_loss + fake_loss) / 2\n",
    "        \n",
    "        self.loss_D_history[-1].append(loss_d.item())\n",
    "        self.loss_D_real_history[-1].append(real_loss.item())\n",
    "        self.loss_D_fake_history[-1].append(fake_loss.item())\n",
    "\n",
    "        loss_d.backward()\n",
    "        self.D_optim.step()\n",
    "        \n",
    "    def _plot_fake_images(self, images, targets, nrow=8):\n",
    "        \"\"\"\n",
    "        Showing the generator's results\n",
    "        \"\"\"\n",
    "        \n",
    "        self.G.eval()\n",
    "                \n",
    "        fake = self.G(images)\n",
    "        \n",
    "        to_show = lab_to_rgb_save(images, fake, device=self.device)\n",
    "        to_show_real = lab_to_rgb(images, targets, device=self.device)\n",
    "\n",
    "        save_dir=\"./output\"\n",
    "        if not os.path.exists(save_dir):\n",
    "            os.makedirs(save_dir)\n",
    "        # Save images to disk\n",
    "        for idx, img in enumerate(to_show):\n",
    "            plt.imsave(os.path.join(save_dir, f\"image_{idx}.png\"), img.clip(0, 1))\n",
    "\n",
    "        # Calculate SSIM\n",
    "        score_ssim = calculate_ssim(images, fake, targets)\n",
    "        print(f\"SSIM: {score_ssim}\")\n",
    "\n",
    "        # Calculate Colourfulness\n",
    "        score_colourfulness = calculate_colourfulness(images, fake)\n",
    "        print(f\"Colourfulness: {score_colourfulness}\")\n",
    "\n",
    "        a = fake[:, 0, :, :].unsqueeze(1).expand(to_show.shape)\n",
    "        b = fake[:, 1, :, :].unsqueeze(1).expand(to_show.shape)\n",
    "        grid = torchvision.utils.make_grid(torch.cat([images.expand(to_show.shape), a, b, to_show, to_show_real], dim=0), nrow=8, padding=1, scale_each=True)\n",
    "\n",
    "        fig = plt.figure(figsize=(16,8))\n",
    "        plt.imshow((grid.cpu().permute(1,2,0).numpy() * 255).astype(np.uint8))\n",
    "        plt.axis('off')\n",
    "        plt.show()\n",
    "        \n",
    "    def _plot_stats(self):\n",
    "        \"\"\"\n",
    "        Plotting stats of history training\n",
    "        \"\"\"\n",
    "        fig, axes = plt.subplots(2, 2, figsize=(10, 4))\n",
    "        sns.lineplot(self.loss_D_per_epoch, label=\"discriminator\", ax=axes[0][0])\n",
    "        sns.lineplot(self.loss_G_per_epoch, label=\"generator\", ax=axes[0][1])\n",
    "        \n",
    "        sns.lineplot(self.loss_D_real_per_epoch, label=\"real\", ax=axes[1][0])\n",
    "        sns.lineplot(self.loss_D_fake_per_epoch, label=\"fake\", ax=axes[1][1])\n",
    "        \n",
    "        plt.tight_layout()\n",
    "        plt.show()\n",
    "\n",
    "        \n",
    "    def _plot_epoch_stats(self, epoch):\n",
    "        \"\"\"\n",
    "        Plotting stats of history training\n",
    "        \"\"\"\n",
    "        fig, axes = plt.subplots(2, 2, figsize=(10, 4))\n",
    "        sns.lineplot(self.loss_D_history[epoch], label=\"discriminator\", ax=axes[0][0])\n",
    "        sns.lineplot(self.loss_G_history[epoch], label=\"generator\", ax=axes[0][1])\n",
    "        \n",
    "        sns.lineplot(self.loss_D_real_history[epoch], label=\"real\", ax=axes[1][0])\n",
    "        sns.lineplot(self.loss_D_fake_history[epoch], label=\"fake\", ax=axes[1][1])\n",
    "        \n",
    "        plt.tight_layout()\n",
    "        plt.show()\n",
    "        \n",
    "    def _plot_losses(self):\n",
    "        \"\"\"\n",
    "        Plot the generator and discriminator losses per epoch.\n",
    "        \"\"\"\n",
    "        epochs = range(1, len(self.loss_G_per_epoch) + 1)\n",
    "\n",
    "        plt.figure(figsize=(8, 5))\n",
    "        plt.plot(epochs, self.loss_G_per_epoch, label='Generator loss', color='blue')\n",
    "        plt.plot(epochs, self.loss_D_per_epoch, label='Discriminator loss', color='red')\n",
    "        plt.title('Loss vs. Epoch')\n",
    "        plt.xlabel('Epoch')\n",
    "        plt.ylabel('Loss')\n",
    "        plt.legend()\n",
    "        plt.show()\n",
    "        \n",
    "    def plot_ssim_and_colourfulness(self):\n",
    "        \"\"\"\n",
    "        Plot SSIM and Colourfulness over epochs.\n",
    "        \"\"\"\n",
    "        epochs = range(1, len(self.ssim_history) + 1)\n",
    "\n",
    "        plt.figure(figsize=(8, 5))\n",
    "        plt.plot(epochs, self.ssim_history, label='SSIM', color='green')\n",
    "        plt.plot(epochs, self.colourfulness_history, label='Colourfulness', color='purple')\n",
    "        plt.title('SSIM and Colourfulness vs. Epoch')\n",
    "        plt.xlabel('Epoch')\n",
    "        plt.ylabel('Score')\n",
    "        plt.legend()\n",
    "        plt.show() "
   ]
  },
  {
   "cell_type": "markdown",
   "metadata": {},
   "source": [
    "#### Trainer Class for GANs\n",
    "\n",
    "##### Key Components and Initialization\n",
    "- **Models and Device**: The trainer initializes with generator (`G`) and discriminator (`D`) models, and specifies the device (`CPU` or `GPU`) for computation.\n",
    "- **Loss Functions**: Utilizes L1 and Binary Cross-Entropy (BCE) losses to measure accuracy and fidelity in generated images.\n",
    "- **Optimizers**: Adam optimizers are employed for both models to iteratively improve through gradient descent.\n",
    "\n",
    "##### Training Process\n",
    "- **Batch and Epoch Management**: Handles data loading and batches through the provided `dataloader`. The training is epoch-based, with detailed loss tracking and periodic updates.\n",
    "- **Discriminator and Generator Training**: Trains the discriminator more frequently than the generator based on a specified rate (`discriminator_to_generator_training_rate`), balancing the training between sharpening discriminator accuracy and enhancing generator quality.\n",
    "- **Loss Tracking and Visualization**: Maintains a comprehensive log of losses for both real and fake inputs to monitor the training progress. Visualizations of losses and generated images are periodically produced to assess the model's performance and convergence.\n",
    "\n",
    "##### Methods for Detailed Operations\n",
    "- **_train_generator() and _train_discriminator()**: Core methods that handle the training of the generator and discriminator, including backpropagation and parameter updates.\n",
    "- **_plot_fake_images() and _plot_stats()**: Utility methods for visual output and statistical analysis, providing insights into the training process and outcomes."
   ]
  },
  {
   "cell_type": "markdown",
   "metadata": {},
   "source": [
    "## 7. Validation"
   ]
  },
  {
   "cell_type": "code",
   "execution_count": 20,
   "metadata": {},
   "outputs": [],
   "source": [
    "def calculate_ssim(L, ab_gen, ab_gt):\n",
    "    \"\"\"\n",
    "    Calculate the Structural Similarity Index (SSIM)\n",
    "    \"\"\"\n",
    "    L = 100 * L # Scale the L component from 0-1 to 0-100\n",
    "    ab_gen = (ab_gen - 0.5) * 256 # Adjust the a and b components to the correct range\n",
    "    ab_gt = (ab_gt - 0.5) * 256 # Adjust the a and b components to the correct range\n",
    "\n",
    "    Lab_gens = torch.cat([L, ab_gen], dim=1).permute(0, 2, 3, 1).detach().cpu().numpy() # Combine L, a, b, and rearrange the format for processing\n",
    "    Lab_gts = torch.cat([L, ab_gt], dim=1).permute(0, 2, 3, 1).detach().cpu().numpy()   # Combine L, a, b, and rearrange the format for processing\n",
    "    \n",
    "    scores = [] # Initialize a list to store the SSIM scores\n",
    "    for img_gen, img_gt in zip(Lab_gens, Lab_gts):  # Iterate over the generated and ground truth images\n",
    "        img_gen = Lab_to_XYZ(img_gen)   # Convert LAB to XYZ\n",
    "        img_gen = XYZ_to_sRGB(img_gen)  # Convert XYZ to sRGB\n",
    "        \n",
    "        img_gt = Lab_to_XYZ(img_gt)    # Convert LAB to XYZ\n",
    "        img_gt = XYZ_to_sRGB(img_gt)    # Convert XYZ to sRGB\n",
    "        \n",
    "        scores.append(ssim(img_gen, img_gt, channel_axis=-1, data_range=255)) # Calculate the SSIM score\n",
    "\n",
    "    return round(np.mean(scores), 4)    # Return the mean SSIM score\n",
    "\n",
    "def calculate_colourfulness(L, ab_gen): \n",
    "    \"\"\"\n",
    "    Calculate the Colourfulness.\n",
    "    References\n",
    "    ----------\n",
    "    D. Hasler and S.E.Suesstrunk, ``Measuring colorfulness in natural images,\" Human\n",
    "    Vision andElectronicImagingVIII, Proceedings of the SPIE, 5007:87-95, 2003.\n",
    "    ----------\n",
    "    \"\"\"\n",
    "    L = 100 * L     # Scale the L component from 0-1 to 0-100\n",
    "    ab_gen = (ab_gen - 0.5) * 256   # Adjust the a and b components to the correct range\n",
    "\n",
    "    Lab_gens = torch.cat([L, ab_gen], dim=1).permute(0, 2, 3, 1).detach().cpu().numpy()     # Combine L, a, b, and rearrange the format for processing\n",
    "    \n",
    "    scores = []     # Initialize a list to store the colourfulness scores\n",
    "    for img_gen in Lab_gens:   # Iterate over the generated images\n",
    "        img_gen = Lab_to_XYZ(img_gen)  # Convert LAB to XYZ\n",
    "        img_gen = XYZ_to_sRGB(img_gen)  # Convert XYZ to sRGB\n",
    "        \n",
    "        rg = img_gen[:, 0] - img_gen[:, 1] # Calculate the red-green channel\n",
    "        yb = 0.5 * (img_gen[:, 0] + img_gen[:, 1]) - img_gen[:, 2] # Calculate the yellow-blue channel\n",
    "\n",
    "        mean_rgyb = np.sqrt(np.mean(rg) ** 2 + np.mean(yb) ** 2) # Calculate the mean of the RG and YB channels\n",
    "        std_rgyb = np.sqrt(np.std(rg) ** 2 + np.std(yb) ** 2)   # Calculate the standard deviation of the RG and YB channels\n",
    "\n",
    "        scores.append(std_rgyb + 0.3 * mean_rgyb) # Calculate the colourfulness score\n",
    "    \n",
    "    return round(np.mean(scores), 4)    # Return the mean colourfulness score"
   ]
  },
  {
   "cell_type": "markdown",
   "metadata": {},
   "source": [
    "#### Measuring Image Quality in Image Generation Tasks\n",
    "\n",
    "In tasks involving image generation, such as those with Generative Adversarial Networks (GANs), it's crucial to quantitatively assess the quality of generated images. Two important metrics are used for this purpose: the Structural Similarity Index (SSIM) and the Colourfulness metric.\n",
    "\n",
    "##### Structural Similarity Index (SSIM)\n",
    "\n",
    "SSIM is a perception-based model that quantifies the similarity between two images. It is used to measure the quality of reconstruction or generation in comparison to an original or ground-truth image.\n",
    "\n",
    "- **Usage**: `calculate_ssim(L, ab_gen, ab_gt)`\n",
    "- **Input**:\n",
    "  - `L`: Lightness component of the LAB color space.\n",
    "  - `ab_gen`: Generated image color components.\n",
    "  - `ab_gt`: Ground truth image color components.\n",
    "- **Process**:\n",
    "  - The function normalizes the L and AB components to standard LAB color space ranges.\n",
    "  - Converts LAB color space images to sRGB for proper visualization.\n",
    "  - Calculates SSIM for each image in the batch and averages the scores.\n",
    "\n",
    "##### Colourfulness Metric\n",
    "\n",
    "Based on a study by Hasler and Suesstrunk, the Colourfulness metric measures the vividness of an image, which can be particularly useful in evaluating the performance of color generation models.\n",
    "\n",
    "- **Usage**: `calculate_colourfulness(L, ab_gen)`\n",
    "- **Input**:\n",
    "  - `L`: Lightness component of the LAB color space.\n",
    "  - `ab_gen`: Generated image color components.\n",
    "- **Process**:\n",
    "  - Normalizes and converts the LAB images to sRGB.\n",
    "  - Computes differences between the red-green and yellow-blue components.\n",
    "  - Calculates mean and standard deviation of these differences to derive the colourfulness score."
   ]
  },
  {
   "cell_type": "code",
   "execution_count": 21,
   "metadata": {},
   "outputs": [],
   "source": [
    "trainer = Trainer(G, D, device) # Initialize the trainer with the generator and discriminator"
   ]
  },
  {
   "cell_type": "code",
   "execution_count": 22,
   "metadata": {},
   "outputs": [
    {
     "name": "stdout",
     "output_type": "stream",
     "text": [
      "EPOCH: 1\n"
     ]
    },
    {
     "data": {
      "application/vnd.jupyter.widget-view+json": {
       "model_id": "3090d98887554d7e923821cb91c06bb2",
       "version_major": 2,
       "version_minor": 0
      },
      "text/plain": [
       "  0%|          | 0/8 [00:00<?, ?it/s]"
      ]
     },
     "metadata": {},
     "output_type": "display_data"
    },
    {
     "data": {
      "image/png": "[encoded data removed]",
      "text/plain": [
       "<Figure size 1000x400 with 4 Axes>"
      ]
     },
     "metadata": {},
     "output_type": "display_data"
    },
    {
     "ename": "ValueError",
     "evalue": "Third dimension must be 3 or 4",
     "output_type": "error",
     "traceback": [
      "\u001b[1;31m---------------------------------------------------------------------------\u001b[0m",
      "\u001b[1;31mValueError\u001b[0m                                Traceback (most recent call last)",
      "Cell \u001b[1;32mIn[22], line 2\u001b[0m\n\u001b[0;32m      1\u001b[0m \u001b[38;5;66;03m# Train the models for 50 epochs\u001b[39;00m\n\u001b[1;32m----> 2\u001b[0m \u001b[43mtrainer\u001b[49m\u001b[38;5;241;43m.\u001b[39;49m\u001b[43mtrain\u001b[49m\u001b[43m(\u001b[49m\u001b[43mtrain_dl\u001b[49m\u001b[43m,\u001b[49m\u001b[43m \u001b[49m\u001b[43mepochs\u001b[49m\u001b[38;5;241;43m=\u001b[39;49m\u001b[38;5;241;43m1\u001b[39;49m\u001b[43m)\u001b[49m\n",
      "Cell \u001b[1;32mIn[19], line 56\u001b[0m, in \u001b[0;36mTrainer.train\u001b[1;34m(self, dataloader, epochs)\u001b[0m\n\u001b[0;32m     54\u001b[0m \u001b[38;5;28;01mif\u001b[39;00m (epoch \u001b[38;5;241m+\u001b[39m \u001b[38;5;241m1\u001b[39m) \u001b[38;5;241m%\u001b[39m \u001b[38;5;28mself\u001b[39m\u001b[38;5;241m.\u001b[39mplot_rate \u001b[38;5;241m==\u001b[39m \u001b[38;5;241m0\u001b[39m:\n\u001b[0;32m     55\u001b[0m     \u001b[38;5;28mself\u001b[39m\u001b[38;5;241m.\u001b[39m_plot_epoch_stats(epoch)\n\u001b[1;32m---> 56\u001b[0m     \u001b[38;5;28;43mself\u001b[39;49m\u001b[38;5;241;43m.\u001b[39;49m\u001b[43m_plot_fake_images\u001b[49m\u001b[43m(\u001b[49m\u001b[43mimages\u001b[49m\u001b[43m,\u001b[49m\u001b[43m \u001b[49m\u001b[43mtargets\u001b[49m\u001b[43m)\u001b[49m\n\u001b[0;32m     57\u001b[0m \u001b[38;5;28mself\u001b[39m\u001b[38;5;241m.\u001b[39m_plot_stats()\n",
      "Cell \u001b[1;32mIn[19], line 120\u001b[0m, in \u001b[0;36mTrainer._plot_fake_images\u001b[1;34m(self, images, targets, nrow)\u001b[0m\n\u001b[0;32m    118\u001b[0m \u001b[38;5;66;03m# Save images to disk\u001b[39;00m\n\u001b[0;32m    119\u001b[0m \u001b[38;5;28;01mfor\u001b[39;00m idx, img \u001b[38;5;129;01min\u001b[39;00m \u001b[38;5;28menumerate\u001b[39m(to_show):\n\u001b[1;32m--> 120\u001b[0m     \u001b[43mplt\u001b[49m\u001b[38;5;241;43m.\u001b[39;49m\u001b[43mimsave\u001b[49m\u001b[43m(\u001b[49m\u001b[43mos\u001b[49m\u001b[38;5;241;43m.\u001b[39;49m\u001b[43mpath\u001b[49m\u001b[38;5;241;43m.\u001b[39;49m\u001b[43mjoin\u001b[49m\u001b[43m(\u001b[49m\u001b[43msave_dir\u001b[49m\u001b[43m,\u001b[49m\u001b[43m \u001b[49m\u001b[38;5;124;43mf\u001b[39;49m\u001b[38;5;124;43m\"\u001b[39;49m\u001b[38;5;124;43mimage_\u001b[39;49m\u001b[38;5;132;43;01m{\u001b[39;49;00m\u001b[43midx\u001b[49m\u001b[38;5;132;43;01m}\u001b[39;49;00m\u001b[38;5;124;43m.png\u001b[39;49m\u001b[38;5;124;43m\"\u001b[39;49m\u001b[43m)\u001b[49m\u001b[43m,\u001b[49m\u001b[43m \u001b[49m\u001b[43mimg\u001b[49m\u001b[38;5;241;43m.\u001b[39;49m\u001b[43mclip\u001b[49m\u001b[43m(\u001b[49m\u001b[38;5;241;43m0\u001b[39;49m\u001b[43m,\u001b[49m\u001b[43m \u001b[49m\u001b[38;5;241;43m1\u001b[39;49m\u001b[43m)\u001b[49m\u001b[43m)\u001b[49m\n\u001b[0;32m    122\u001b[0m \u001b[38;5;66;03m# Calculate SSIM\u001b[39;00m\n\u001b[0;32m    123\u001b[0m score_ssim \u001b[38;5;241m=\u001b[39m calculate_ssim(images, fake, targets)\n",
      "File \u001b[1;32mc:\\Users\\Lenovo\\.conda\\envs\\ulos\\lib\\site-packages\\matplotlib\\pyplot.py:2396\u001b[0m, in \u001b[0;36mimsave\u001b[1;34m(fname, arr, **kwargs)\u001b[0m\n\u001b[0;32m   2392\u001b[0m \u001b[38;5;129m@_copy_docstring_and_deprecators\u001b[39m(matplotlib\u001b[38;5;241m.\u001b[39mimage\u001b[38;5;241m.\u001b[39mimsave)\n\u001b[0;32m   2393\u001b[0m \u001b[38;5;28;01mdef\u001b[39;00m \u001b[38;5;21mimsave\u001b[39m(\n\u001b[0;32m   2394\u001b[0m     fname: \u001b[38;5;28mstr\u001b[39m \u001b[38;5;241m|\u001b[39m os\u001b[38;5;241m.\u001b[39mPathLike \u001b[38;5;241m|\u001b[39m BinaryIO, arr: ArrayLike, \u001b[38;5;241m*\u001b[39m\u001b[38;5;241m*\u001b[39mkwargs\n\u001b[0;32m   2395\u001b[0m ) \u001b[38;5;241m-\u001b[39m\u001b[38;5;241m>\u001b[39m \u001b[38;5;28;01mNone\u001b[39;00m:\n\u001b[1;32m-> 2396\u001b[0m     matplotlib\u001b[38;5;241m.\u001b[39mimage\u001b[38;5;241m.\u001b[39mimsave(fname, arr, \u001b[38;5;241m*\u001b[39m\u001b[38;5;241m*\u001b[39mkwargs)\n",
      "File \u001b[1;32mc:\\Users\\Lenovo\\.conda\\envs\\ulos\\lib\\site-packages\\matplotlib\\image.py:1617\u001b[0m, in \u001b[0;36mimsave\u001b[1;34m(fname, arr, vmin, vmax, cmap, format, origin, dpi, metadata, pil_kwargs)\u001b[0m\n\u001b[0;32m   1615\u001b[0m     sm \u001b[38;5;241m=\u001b[39m cm\u001b[38;5;241m.\u001b[39mScalarMappable(cmap\u001b[38;5;241m=\u001b[39mcmap)\n\u001b[0;32m   1616\u001b[0m     sm\u001b[38;5;241m.\u001b[39mset_clim(vmin, vmax)\n\u001b[1;32m-> 1617\u001b[0m     rgba \u001b[38;5;241m=\u001b[39m \u001b[43msm\u001b[49m\u001b[38;5;241;43m.\u001b[39;49m\u001b[43mto_rgba\u001b[49m\u001b[43m(\u001b[49m\u001b[43marr\u001b[49m\u001b[43m,\u001b[49m\u001b[43m \u001b[49m\u001b[38;5;28;43mbytes\u001b[39;49m\u001b[38;5;241;43m=\u001b[39;49m\u001b[38;5;28;43;01mTrue\u001b[39;49;00m\u001b[43m)\u001b[49m\n\u001b[0;32m   1618\u001b[0m \u001b[38;5;28;01mif\u001b[39;00m pil_kwargs \u001b[38;5;129;01mis\u001b[39;00m \u001b[38;5;28;01mNone\u001b[39;00m:\n\u001b[0;32m   1619\u001b[0m     pil_kwargs \u001b[38;5;241m=\u001b[39m {}\n",
      "File \u001b[1;32mc:\\Users\\Lenovo\\.conda\\envs\\ulos\\lib\\site-packages\\matplotlib\\cm.py:483\u001b[0m, in \u001b[0;36mScalarMappable.to_rgba\u001b[1;34m(self, x, alpha, bytes, norm)\u001b[0m\n\u001b[0;32m    481\u001b[0m     xx \u001b[38;5;241m=\u001b[39m x\n\u001b[0;32m    482\u001b[0m \u001b[38;5;28;01melse\u001b[39;00m:\n\u001b[1;32m--> 483\u001b[0m     \u001b[38;5;28;01mraise\u001b[39;00m \u001b[38;5;167;01mValueError\u001b[39;00m(\u001b[38;5;124m\"\u001b[39m\u001b[38;5;124mThird dimension must be 3 or 4\u001b[39m\u001b[38;5;124m\"\u001b[39m)\n\u001b[0;32m    484\u001b[0m \u001b[38;5;28;01mif\u001b[39;00m xx\u001b[38;5;241m.\u001b[39mdtype\u001b[38;5;241m.\u001b[39mkind \u001b[38;5;241m==\u001b[39m \u001b[38;5;124m'\u001b[39m\u001b[38;5;124mf\u001b[39m\u001b[38;5;124m'\u001b[39m:\n\u001b[0;32m    485\u001b[0m     \u001b[38;5;28;01mif\u001b[39;00m norm \u001b[38;5;129;01mand\u001b[39;00m (xx\u001b[38;5;241m.\u001b[39mmax() \u001b[38;5;241m>\u001b[39m \u001b[38;5;241m1\u001b[39m \u001b[38;5;129;01mor\u001b[39;00m xx\u001b[38;5;241m.\u001b[39mmin() \u001b[38;5;241m<\u001b[39m \u001b[38;5;241m0\u001b[39m):\n",
      "\u001b[1;31mValueError\u001b[0m: Third dimension must be 3 or 4"
     ]
    }
   ],
   "source": [
    "# Train the models for 50 epochs\n",
    "trainer.train(train_dl, epochs=1) \t"
   ]
  },
  {
   "cell_type": "markdown",
   "metadata": {},
   "source": []
  },
  {
   "cell_type": "code",
   "execution_count": null,
   "metadata": {},
   "outputs": [],
   "source": [
    "trainer.plot_ssim_and_colourfulness()"
   ]
  },
  {
   "cell_type": "code",
   "execution_count": null,
   "metadata": {},
   "outputs": [],
   "source": [
    "trainer._plot_losses() \t# Plot the generator and discriminator losses per epoch"
   ]
  },
  {
   "cell_type": "code",
   "execution_count": null,
   "metadata": {},
   "outputs": [],
   "source": [
    "trainer.G\t# Set the generator to evaluation mode"
   ]
  }
 ],
 "metadata": {
  "kernelspec": {
   "display_name": "elraang",
   "language": "python",
   "name": "python3"
  },
  "language_info": {
   "codemirror_mode": {
    "name": "ipython",
    "version": 3
   },
   "file_extension": ".py",
   "mimetype": "text/x-python",
   "name": "python",
   "nbconvert_exporter": "python",
   "pygments_lexer": "ipython3",
   "version": "3.10.14"
  }
 },
 "nbformat": 4,
 "nbformat_minor": 2
}
