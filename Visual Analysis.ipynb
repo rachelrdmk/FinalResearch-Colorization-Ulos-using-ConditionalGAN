{
 "cells": [
  {
   "cell_type": "code",
   "execution_count": null,
   "metadata": {},
   "outputs": [],
   "source": [
    "import numpy as np\n",
    "\n",
    "from PIL import Image\n",
    "\n",
    "from matplotlib import pyplot as plt\n",
    "\n",
    "import cv2\n",
    "\n",
    "from skimage import io\n",
    "from skimage import color"
   ]
  },
  {
   "cell_type": "code",
   "execution_count": null,
   "metadata": {},
   "outputs": [],
   "source": [
    "path = 'dataset.//test_color/Harungguan Biru_Ruth Theresia_001.png'\n",
    "pillow_img  = Image.open(path)\n",
    "\n",
    "hsv_img = pillow_img.convert('HSV')\n",
    "\n",
    "arr_hsv = np.asarray(hsv_img)"
   ]
  },
  {
   "cell_type": "code",
   "execution_count": null,
   "metadata": {},
   "outputs": [],
   "source": [
    "hue_channel =  arr_hsv[:, :, 0]\n",
    "saturation_channel =  arr_hsv[:, :, 1]\n",
    "value_channel =  arr_hsv[:, :, 2]"
   ]
  },
  {
   "cell_type": "code",
   "execution_count": null,
   "metadata": {},
   "outputs": [],
   "source": [
    "fig, axes = plt.subplots(nrows=1, ncols=3, figsize=(10, 5))\n",
    "\n",
    "# hue\n",
    "axes[0].imshow(hue_channel)\n",
    "axes[0].title.set_text('hue channel')\n",
    "\n",
    "# saturation\n",
    "axes[1].imshow(saturation_channel)\n",
    "axes[1].title.set_text('saturation channel')\n",
    "\n",
    "# value\n",
    "axes[2].imshow(value_channel)\n",
    "axes[2].title.set_text('value channel')\n",
    "\n",
    "fig.tight_layout()"
   ]
  },
  {
   "cell_type": "code",
   "execution_count": null,
   "metadata": {},
   "outputs": [],
   "source": [
    "bgr = cv2.imread(path)\n",
    "hsv = cv2.cvtColor(bgr, cv2.COLOR_BGR2HSV)\n",
    "lab = cv2.cvtColor(bgr, cv2.COLOR_BGR2LAB)"
   ]
  },
  {
   "cell_type": "code",
   "execution_count": null,
   "metadata": {},
   "outputs": [],
   "source": [
    "fig, axes = plt.subplots(nrows=1, ncols=3, figsize=(10, 5))\n",
    "\n",
    "# RGB\n",
    "axes[0].imshow(bgr)\n",
    "axes[0].title.set_text('RGB Color Space')\n",
    "\n",
    "# HSV\n",
    "axes[1].imshow(hsv)\n",
    "axes[1].title.set_text('HSV Color Space')\n",
    "\n",
    "# Lab\n",
    "axes[2].imshow(lab)\n",
    "axes[2].title.set_text('Lab Color Space')\n",
    "\n",
    "fig.tight_layout()"
   ]
  },
  {
   "cell_type": "markdown",
   "metadata": {},
   "source": [
    "---"
   ]
  }
 ],
 "metadata": {
  "kernelspec": {
   "display_name": "ulos",
   "language": "python",
   "name": "python3"
  },
  "language_info": {
   "codemirror_mode": {
    "name": "ipython",
    "version": 3
   },
   "file_extension": ".py",
   "mimetype": "text/x-python",
   "name": "python",
   "nbconvert_exporter": "python",
   "pygments_lexer": "ipython3",
   "version": "3.10.0"
  }
 },
 "nbformat": 4,
 "nbformat_minor": 2
}
