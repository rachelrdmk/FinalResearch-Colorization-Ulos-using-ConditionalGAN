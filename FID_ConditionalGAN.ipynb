{
 "cells": [
  {
   "cell_type": "code",
   "execution_count": 42,
   "id": "13f63e87-aa97-4206-8435-03123b01464c",
   "metadata": {},
   "outputs": [
    {
     "name": "stdout",
     "output_type": "stream",
     "text": [
      "Collecting ssim\n",
      "  Downloading ssim-0.3.0.tar.gz (8.7 kB)\n",
      "  Preparing metadata (setup.py): started\n",
      "  Preparing metadata (setup.py): finished with status 'done'\n",
      "Requirement already satisfied: python-dateutil in c:\\users\\lenovo\\appdata\\roaming\\python\\python311\\site-packages (from ssim) (2.8.2)\n",
      "Requirement already satisfied: six>=1.5 in c:\\users\\lenovo\\appdata\\roaming\\python\\python311\\site-packages (from python-dateutil->ssim) (1.16.0)\n",
      "Building wheels for collected packages: ssim\n",
      "  Building wheel for ssim (setup.py): started\n",
      "  Building wheel for ssim (setup.py): finished with status 'done'\n",
      "  Created wheel for ssim: filename=ssim-0.3.0-py3-none-any.whl size=9701 sha256=60533d73a1ce9b4c8722e1ad464baa5144d139aed60f72803435c60b099b25fb\n",
      "  Stored in directory: c:\\users\\lenovo\\appdata\\local\\pip\\cache\\wheels\\79\\8c\\c9\\a044ecfeeeff706d4aaff4e2bc7dde4570b335498d9246e92d\n",
      "Successfully built ssim\n",
      "Installing collected packages: ssim\n",
      "Successfully installed ssim-0.3.0\n",
      "Note: you may need to restart the kernel to use updated packages.\n"
     ]
    }
   ],
   "source": [
    "pip install ssim\n",
    "# penelitian terkait tabel yang merepresentasikan nilai ssim"
   ]
  },
  {
   "cell_type": "code",
   "execution_count": 50,
   "id": "07cebc35-c301-4dfc-b275-e9f8940cbe2b",
   "metadata": {},
   "outputs": [
    {
     "name": "stdout",
     "output_type": "stream",
     "text": [
      "Collecting SSIM-PIL\n",
      "  Downloading SSIM_PIL-1.0.14-py3-none-any.whl.metadata (1.2 kB)\n",
      "Downloading SSIM_PIL-1.0.14-py3-none-any.whl (11 kB)\n",
      "Installing collected packages: SSIM-PIL\n",
      "Successfully installed SSIM-PIL-1.0.14\n",
      "Note: you may need to restart the kernel to use updated packages.\n"
     ]
    }
   ],
   "source": [
    "pip install SSIM-PIL"
   ]
  },
  {
   "cell_type": "code",
   "execution_count": 51,
   "id": "e80b61a8-a0dc-4cb0-96c2-314f93f9413a",
   "metadata": {},
   "outputs": [],
   "source": [
    "# example of calculating the frechet inception distance in Keras\n",
    "# example of calculating the frechet inception distance in Keras\n",
    "import numpy\n",
    "from numpy import cov\n",
    "from numpy import trace\n",
    "from numpy import iscomplexobj\n",
    "from numpy import asarray\n",
    "from numpy.random import randint\n",
    "from scipy.linalg import sqrtm\n",
    "from keras.applications.inception_v3 import InceptionV3\n",
    "from keras.applications.inception_v3 import preprocess_input\n",
    "from keras.datasets.mnist import load_data\n",
    "from skimage.transform import resize\n",
    "\n",
    "from skimage.metrics import structural_similarity as ssim\n",
    "from SSIM_PIL import compare_ssim\n",
    "from PIL import Image"
   ]
  },
  {
   "cell_type": "code",
   "execution_count": 52,
   "id": "ea9dce4e-f5d8-42e4-9290-52dc3757b0e2",
   "metadata": {},
   "outputs": [],
   "source": [
    "def scale_images(images, new_shape):\n",
    "    images_list = list()\n",
    "    for image in images:\n",
    "        # resize with nearest neighbor interpolation\n",
    "        new_image = resize(image, new_shape, 0)\n",
    "        # store\n",
    "        images_list.append(new_image)\n",
    "    return asarray(images_list)"
   ]
  },
  {
   "cell_type": "code",
   "execution_count": 53,
   "id": "c318cd22-e8ce-4e01-80e0-8c29297d2d11",
   "metadata": {},
   "outputs": [],
   "source": [
    "def calculate_fid(model, images1, images2):\n",
    "    # calculate activations\n",
    "    act1 = model.predict(images1)\n",
    "    act2 = model.predict(images2)\n",
    "    # calculate mean and covariance statistics\n",
    "    mu1, sigma1 = act1.mean(axis=0), cov(act1, rowvar=False)\n",
    "    mu2, sigma2 = act2.mean(axis=0), cov(act2, rowvar=False)\n",
    "    # calculate sum squared difference between means\n",
    "    ssdiff = numpy.sum((mu1 - mu2)**2.0)\n",
    "    # calculate sqrt of product between cov\n",
    "    covmean = sqrtm(sigma1.dot(sigma2))\n",
    "    # check and correct imaginary numbers from sqrt\n",
    "    if iscomplexobj(covmean):\n",
    "        covmean = covmean.real\n",
    "    # calculate score\n",
    "    fid = ssdiff + trace(sigma1 + sigma2 - 2.0 * covmean)\n",
    "    return fid"
   ]
  },
  {
   "cell_type": "code",
   "execution_count": 54,
   "id": "8fb4202a-71fc-44e8-b6dd-e9dafff96342",
   "metadata": {},
   "outputs": [],
   "source": [
    "# Load and preprocess images\n",
    "image1 = load_img('Dataset/harungguan/Harungguan_Rachel_004.png' , target_size=(256, 256))\n",
    "image1 = img_to_array(image1)\n",
    "image1 = preprocess_input(image1)\n",
    "image1 = np.expand_dims(image1, axis=0)\n",
    "\n",
    "image2 = load_img('Dataset/harungguan/Harungguan_Rachel_004.png', target_size=(256, 256))\n",
    "image2 = img_to_array(image2)\n",
    "image2 = preprocess_input(image2)\n",
    "image2 = np.expand_dims(image2, axis=0)"
   ]
  },
  {
   "cell_type": "code",
   "execution_count": 55,
   "id": "b7e35870-ae3e-4434-a18c-ae6cb8aba396",
   "metadata": {},
   "outputs": [],
   "source": [
    "# # Memuat gambar\n",
    "image1 = load_img('Dataset/harungguan/Harungguan_Rachel_004.png')  # Ganti 'gambar1.jpg' dengan path ke gambar pertama\n",
    "image2 = load_img('Dataset/harungguan/Harungguan_Rachel_004.png')  # Ganti 'gambar2.jpg' dengan path ke gambar kedua"
   ]
  },
  {
   "cell_type": "code",
   "execution_count": 56,
   "id": "39549777-e63a-488d-ab2d-11273aabbb72",
   "metadata": {},
   "outputs": [],
   "source": [
    "# # prepare the inception v3 model\n",
    "# model = InceptionV3(include_top=False, pooling='avg', input_shape=(299,299,3))\n",
    "# # define two fake collections of images\n",
    "# images1 = randint(0, 255, 10*32*32*3)\n",
    "# images1 = images1.reshape((10,32,32,3))\n",
    "# images2 = randint(0, 255, 10*32*32*3)\n",
    "# images2 = images2.reshape((10,32,32,3))\n",
    "# print('Prepared', images1.shape, images2.shape)\n",
    "# # convert integer to floating point values\n",
    "# images1 = images1.astype('float32')\n",
    "# images2 = images2.astype('float32')\n",
    "# # resize images\n",
    "# images1 = scale_images(images1, (299,299,3))\n",
    "# images2 = scale_images(images2, (299,299,3))\n",
    "# print('Scaled', images1.shape, images2.shape)\n",
    "# # pre-process images\n",
    "# images1 = preprocess_input(images1)\n",
    "# images2 = preprocess_input(images2)\n",
    "# # fid between images1 and images1\n",
    "# fid = calculate_fid(model, images1, images1)\n",
    "# print('FID (same): %.3f' % fid)\n",
    "# # fid between images1 and images2\n",
    "# fid = calculate_fid(model, images1, images2)\n",
    "# print('FID (different): %.3f' % fid)"
   ]
  },
  {
   "cell_type": "code",
   "execution_count": 57,
   "id": "6de97f37-9b3e-4834-b339-4e887d74c048",
   "metadata": {},
   "outputs": [],
   "source": [
    "def scale_images(images, new_shape):\n",
    "\timages_list = list()\n",
    "\tfor image in images:\n",
    "\t\t# resize with bilinear interpolation\n",
    "\t\tnew_image = resize(image, new_shape, order=3)\n",
    "\t\t# store\n",
    "\t\timages_list.append(new_image)\n",
    "\treturn asarray(images_list)"
   ]
  },
  {
   "cell_type": "code",
   "execution_count": null,
   "id": "6a7b9eb1-090e-4faa-8f00-a2c7bcf7d00d",
   "metadata": {},
   "outputs": [],
   "source": [
    "# prepare the inception v3 model\n",
    "model = InceptionV3(include_top=False, pooling='avg', input_shape=(299,299,3))\n",
    "# define two fake collections of images\n",
    "images1 = randint(0, 255, 10*32*32*3)\n",
    "images1 = images1.reshape((10,32,32,3))\n",
    "images2 = randint(0, 255, 10*32*32*3)\n",
    "images2 = images2.reshape((10,32,32,3))\n",
    "print('Prepared', images1.shape, images2.shape)\n",
    "# convert integer to floating point values\n",
    "images1 = images1.astype('float32')\n",
    "images2 = images2.astype('float32')\n",
    "# resize images\n",
    "images1 = scale_images(images1, (299,299,3))\n",
    "images2 = scale_images(images2, (299,299,3))\n",
    "print('Scaled', images1.shape, images2.shape)\n",
    "# pre-process images\n",
    "images1 = preprocess_input(images1)\n",
    "images2 = preprocess_input(images2)\n",
    "# fid between images1 and images1\n",
    "fid = calculate_fid(model, images1, images1)\n",
    "print('FID (same): %.3f' % fid)\n",
    "# fid between images1 and images2\n",
    "fid = calculate_fid(model, images1, images2)\n",
    "print('FID (different): %.3f' % fid)"
   ]
  },
  {
   "cell_type": "code",
   "execution_count": 66,
   "id": "e8234cd0-d9d7-4da7-8cfc-4b896b3937c6",
   "metadata": {},
   "outputs": [
    {
     "name": "stdout",
     "output_type": "stream",
     "text": [
      "No module named 'pyopencl'\n",
      "0.20223845482355907\n",
      "0.20223845482355907\n"
     ]
    }
   ],
   "source": [
    "image1 = Image.open('Dataset/harungguan/Harungguan_Rachel_004.png')\n",
    "image2 = Image.open('Dataset/puca/Puca Biru_Ruth Theresia_007.png')\n",
    "\n",
    "# Compare images using OpenCL by default\n",
    "value = compare_ssim(image1, image2)\n",
    "print(value)\n",
    "\n",
    "#  Compare images using CPU-only version\n",
    "value = compare_ssim(image1, image2, GPU=False)\n",
    "print(value)"
   ]
  },
  {
   "cell_type": "code",
   "execution_count": 64,
   "id": "feda2cb0-38eb-416e-8d65-23cd60150de8",
   "metadata": {},
   "outputs": [
    {
     "name": "stdout",
     "output_type": "stream",
     "text": [
      "No module named 'pyopencl'\n",
      "0.3780982432231214\n",
      "0.3780982432231214\n"
     ]
    }
   ],
   "source": [
    "image1 = Image.open('Dataset/harungguan/Harungguan_Rachel_004.png')\n",
    "image2 = Image.open('output_images/output_bgr_image.png')\n",
    "\n",
    "# Compare images using OpenCL by default\n",
    "value = compare_ssim(image1, image2)\n",
    "print(value)\n",
    "\n",
    "#  Compare images using CPU-only version\n",
    "value = compare_ssim(image1, image2, GPU=False)\n",
    "print(value)"
   ]
  },
  {
   "cell_type": "code",
   "execution_count": null,
   "id": "c36bad4e-72f1-47b6-a1b4-596429be487a",
   "metadata": {},
   "outputs": [],
   "source": [
    "# "
   ]
  }
 ],
 "metadata": {
  "kernelspec": {
   "display_name": "Python 3 (ipykernel)",
   "language": "python",
   "name": "python3"
  },
  "language_info": {
   "codemirror_mode": {
    "name": "ipython",
    "version": 3
   },
   "file_extension": ".py",
   "mimetype": "text/x-python",
   "name": "python",
   "nbconvert_exporter": "python",
   "pygments_lexer": "ipython3",
   "version": "3.11.7"
  }
 },
 "nbformat": 4,
 "nbformat_minor": 5
}
